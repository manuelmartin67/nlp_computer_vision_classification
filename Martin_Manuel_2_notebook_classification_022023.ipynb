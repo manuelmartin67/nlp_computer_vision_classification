{
 "cells": [
  {
   "cell_type": "markdown",
   "id": "70bd2069",
   "metadata": {},
   "source": [
    "# Classification supervisée des images"
   ]
  },
  {
   "cell_type": "markdown",
   "id": "c3a24197",
   "metadata": {},
   "source": [
    "## Objectifs"
   ]
  },
  {
   "cell_type": "markdown",
   "id": "38336766",
   "metadata": {},
   "source": [
    "- Classification supervisée des images :\n",
    "    - réaliser une classification supervisée à partir des images\n",
    "    - mettre en place une data augmentation afin d’optimiser le modèle\n",
    "    - fournir une extraction des 10 premiers produits dans un fichier “.csv”, contenant pour chaque produit les données suivantes : foodId, label, category, foodContentsLabel, image."
   ]
  },
  {
   "cell_type": "markdown",
   "id": "2f52eb17",
   "metadata": {},
   "source": [
    "## Préparation des images hors notebook\n",
    "\n",
    "Les images seront rangées dans deux sous dossiers \"train\" et \"test\". A l'intérieur de ces sous dossiers, les images sont rangées par dossier de catégories, soit 7 dossiers catégoriels.\n",
    "\n",
    "- Images\\\n",
    "    - Train\\\n",
    "        - cat1\\\n",
    "        - ...\n",
    "    - Test\\\n",
    "        - cat1\\\n",
    "        - ..."
   ]
  },
  {
   "cell_type": "code",
   "execution_count": 1,
   "id": "751dc213",
   "metadata": {
    "colab": {
     "base_uri": "https://localhost:8080/",
     "height": 206
    },
    "executionInfo": {
     "elapsed": 11,
     "status": "ok",
     "timestamp": 1679394644839,
     "user": {
      "displayName": "Manuel MARTIN",
      "userId": "00476657125712983438"
     },
     "user_tz": -60
    },
    "id": "d23450c5",
    "outputId": "ce5386f0-c0e8-4d65-f51e-542c15fe9aff"
   },
   "outputs": [
    {
     "name": "stderr",
     "output_type": "stream",
     "text": [
      "/Users/manuel.martin.67/anaconda3/envs/tfm1/lib/python3.8/site-packages/requests/__init__.py:109: RequestsDependencyWarning: urllib3 (1.26.14) or chardet (None)/charset_normalizer (3.1.0) doesn't match a supported version!\n",
      "  warnings.warn(\n"
     ]
    }
   ],
   "source": [
    "import pandas as pd\n",
    "import numpy as np\n",
    "import matplotlib.pyplot as plt\n",
    "import seaborn as sns\n",
    "\n",
    "import shutil\n",
    "import os\n",
    "import random\n",
    "\n",
    "from sklearn.model_selection import train_test_split\n",
    "from sklearn import metrics\n",
    "\n",
    "import tensorflow as tf\n",
    "from tensorflow.keras.models import Model, Sequential\n",
    "from tensorflow.keras.layers import GlobalAveragePooling2D, GlobalAveragePooling1D, Flatten, Dense, Dropout \n",
    "from tensorflow.keras.layers import Rescaling, RandomFlip, RandomRotation, RandomZoom\n",
    "from tensorflow.keras.callbacks import EarlyStopping, ModelCheckpoint\n",
    "from tensorflow.keras.applications.vgg16 import VGG16\n",
    "from tensorflow.keras.applications.vgg16 import preprocess_input\n",
    "from tensorflow.keras.preprocessing.image import load_img, img_to_array\n",
    "from tensorflow.keras.utils import to_categorical\n",
    "from tensorflow.keras.preprocessing.image import ImageDataGenerator"
   ]
  },
  {
   "cell_type": "code",
   "execution_count": 26,
   "id": "1cfc6b07",
   "metadata": {
    "colab": {
     "base_uri": "https://localhost:8080/",
     "height": 206
    },
    "executionInfo": {
     "elapsed": 11,
     "status": "ok",
     "timestamp": 1679394644839,
     "user": {
      "displayName": "Manuel MARTIN",
      "userId": "00476657125712983438"
     },
     "user_tz": -60
    },
    "id": "d23450c5",
    "outputId": "ce5386f0-c0e8-4d65-f51e-542c15fe9aff"
   },
   "outputs": [
    {
     "name": "stdout",
     "output_type": "stream",
     "text": [
      "Num GPUs Available:  1\n"
     ]
    }
   ],
   "source": [
    "# Définition de la variable d'environnement \"TF_KERAS\" à la valeur '1'\n",
    "# pour permettre l'utilisation de TensorFlow avec Keras\n",
    "os.environ[\"TF_KERAS\"]='1'\n",
    "\n",
    "# Vérification du nombre de GPU disponibles pour l'exécution des calculs\n",
    "print(\"Num GPUs Available: \", len(tf.config.list_physical_devices('GPU')))"
   ]
  },
  {
   "cell_type": "code",
   "execution_count": 44,
   "id": "d23450c5",
   "metadata": {
    "colab": {
     "base_uri": "https://localhost:8080/",
     "height": 206
    },
    "executionInfo": {
     "elapsed": 11,
     "status": "ok",
     "timestamp": 1679394644839,
     "user": {
      "displayName": "Manuel MARTIN",
      "userId": "00476657125712983438"
     },
     "user_tz": -60
    },
    "id": "d23450c5",
    "outputId": "ce5386f0-c0e8-4d65-f51e-542c15fe9aff",
    "scrolled": true
   },
   "outputs": [],
   "source": [
    "# Définition des chemins d'accès aux fichiers\n",
    "path = \"./Flipkart/Images/Train/\"\n",
    "path_test = \"./Flipkart/Images/Test/\"\n",
    "\n",
    "# Lecture des données de l'ensemble de données\n",
    "data_image = pd.read_csv(\"data_image.csv\")"
   ]
  },
  {
   "cell_type": "code",
   "execution_count": 46,
   "id": "12a6602e",
   "metadata": {},
   "outputs": [],
   "source": [
    "# Définir les noms des sous-dossiers pour Train et Test\n",
    "train_dir = './Flipkart/Images/Train'\n",
    "test_dir = './Flipkart/Images/Test'\n",
    "\n",
    "# Supprimer les dossiers Train et Test s'ils existent déjà\n",
    "if os.path.exists(train_dir):\n",
    "    shutil.rmtree(train_dir)\n",
    "if os.path.exists(test_dir):\n",
    "    shutil.rmtree(test_dir)\n",
    "\n",
    "# Recréer les dossiers Train et Test\n",
    "os.makedirs(train_dir)\n",
    "os.makedirs(test_dir)\n",
    "\n",
    "# Calculer le nombre d'images à mettre dans le dossier de test\n",
    "num_images = len(data_image)\n",
    "num_test_images = int(0.2 * num_images)\n",
    "\n",
    "# Sélectionner des images aléatoires pour le dossier de test\n",
    "test_images = set(random.sample(range(num_images), num_test_images))\n",
    "\n",
    "# Boucle sur toutes les images et les déplace vers le dossier Train ou Test\n",
    "for i, row in data_image.iterrows():\n",
    "    image_name = row['image']\n",
    "    category = row['categorie_principale']\n",
    "    image_path = f'./Flipkart/Images/{image_name}'\n",
    "    if i in test_images:\n",
    "        # Déplacer l'image vers le dossier de test et créer un sous-dossier pour la catégorie si nécessaire\n",
    "        category_dir = os.path.join(test_dir, category)\n",
    "        if not os.path.exists(category_dir):\n",
    "            os.makedirs(category_dir)\n",
    "        image_dest = os.path.join(category_dir, image_name)\n",
    "        shutil.copyfile(image_path, image_dest)\n",
    "        # Ajouter le chemin de l'image et le statut de test au dataframe\n",
    "        data_image.loc[i, 'image_path'] = image_dest\n",
    "        data_image.loc[i, 'Train_Test'] = 'Test'\n",
    "    else:\n",
    "        # Déplacer l'image vers le dossier de train et créer un sous-dossier pour la catégorie si nécessaire\n",
    "        category_dir = os.path.join(train_dir, category)\n",
    "        if not os.path.exists(category_dir):\n",
    "            os.makedirs(category_dir)\n",
    "        image_dest = os.path.join(category_dir, image_name)\n",
    "        shutil.copyfile(image_path, image_dest)\n",
    "        # Ajouter le chemin de l'image et le statut de train au dataframe\n",
    "        data_image.loc[i, 'image_path'] = image_dest\n",
    "        data_image.loc[i, 'Train_Test'] = 'Train'\n",
    "\n",
    "# Sélectionner les données d'entraînement (split=train) et de test (split=test)    \n",
    "data_train = data_image.loc[data_image['Train_Test']=='train'].reset_index(drop=True)\n",
    "data_test = data_image.loc[data_image['Train_Test']=='test'].reset_index(drop=True)"
   ]
  },
  {
   "cell_type": "markdown",
   "id": "74fd6d73",
   "metadata": {
    "id": "74fd6d73"
   },
   "source": [
    "## Classification supervisée\n",
    "2 approches :\n",
    "* sans data augmentation\n",
    "* avec data augmentation intégrée au modèle\n"
   ]
  },
  {
   "cell_type": "markdown",
   "id": "4d9efc42",
   "metadata": {
    "id": "4d9efc42"
   },
   "source": [
    "### Classification sans data augmentation\n",
    "\n",
    "CF https://www.tensorflow.org/tutorials/load_data/images"
   ]
  },
  {
   "cell_type": "markdown",
   "id": "d8e1637e",
   "metadata": {},
   "source": [
    "On crée d'abord une fonction qui va nous créer un modèle VGG16.\n",
    "\n",
    "Ce modèle sera entrainé uniquement sur les dernières couches fully connected que l'on va rajouter (Flatten, Dense, Dropout et Dense)\n",
    "\n",
    "On compilera ce modèle avec une fonction de perte, un optimiseur, et une métrique d'évaluation."
   ]
  },
  {
   "cell_type": "code",
   "execution_count": 47,
   "id": "3d395f81",
   "metadata": {
    "executionInfo": {
     "elapsed": 3,
     "status": "ok",
     "timestamp": 1679394645546,
     "user": {
      "displayName": "Manuel MARTIN",
      "userId": "00476657125712983438"
     },
     "user_tz": -60
    },
    "id": "3d395f81",
    "scrolled": true
   },
   "outputs": [],
   "source": [
    "def create_model_fct():\n",
    "    # Récupération modèle pré-entraîné\n",
    "    model0 = VGG16(include_top=False, weights=\"imagenet\", input_shape=(224, 224, 3))\n",
    "\n",
    "    # Layer non entraînables = on garde les poids du modèle pré-entraîné\n",
    "    for layer in model0.layers:\n",
    "        layer.trainable = False\n",
    "\n",
    "    # Récupérer la sortie de ce réseau\n",
    "    x = model0.output\n",
    "\n",
    "    # Ajouter des couches au modèle\n",
    "    x = Flatten()(x)  # Mise à plat des résultats\n",
    "    x = Dense(256, activation='relu')(x)  # Ajoute une couche dense de 256 neurones avec une fonction d'activation ReLU\n",
    "    x = Dropout(0.5)(x)  # Ajoute une couche de dropout pour éviter le surapprentissage\n",
    "    predictions = Dense(7, activation='softmax')(x)  # Ajoute une couche dense de 7 neurones avec une fonction d'activation softmax\n",
    "\n",
    "    # Définir le nouveau modèle avec la sortie comme prédictions\n",
    "    model = Model(inputs=model0.input, outputs=predictions)\n",
    "\n",
    "    # Compilation du modèle avec une fonction de perte, un optimiseur et des métriques d'évaluation\n",
    "    model.compile(loss=\"categorical_crossentropy\", optimizer='rmsprop', metrics=[\"accuracy\"])\n",
    "\n",
    "    # Affichage du résumé du modèle\n",
    "    print(model.summary())\n",
    "\n",
    "    # Retourne le modèle compilé\n",
    "    return model "
   ]
  },
  {
   "cell_type": "markdown",
   "id": "ec581e39",
   "metadata": {},
   "source": [
    "On va d'abord créer une fonction pour charger les photos qui se trouve dans les dossiers train et test.\n",
    "\n",
    "En utilisant tf.keras.utils.image_dataset_from_directory, on passe d'un répertoire d'images classées à un dataset."
   ]
  },
  {
   "cell_type": "code",
   "execution_count": 48,
   "id": "dc7796e5",
   "metadata": {
    "executionInfo": {
     "elapsed": 9,
     "status": "ok",
     "timestamp": 1679395551868,
     "user": {
      "displayName": "Manuel MARTIN",
      "userId": "00476657125712983438"
     },
     "user_tz": -60
    },
    "id": "dc7796e5"
   },
   "outputs": [],
   "source": [
    "# Définition de la taille de batch pour le modèle\n",
    "batch_size = 32\n",
    "\n",
    "# Définition d'une fonction qui charge et prépare les données d'un répertoire donné\n",
    "# path: le chemin du répertoire contenant les données\n",
    "# validation_split: fraction du jeu de données à utiliser pour la validation\n",
    "# data_type: type de données à charger (train, test, validation)\n",
    "def dataset_fct(path, validation_split=0, data_type=None) :\n",
    "    # Utilisation de la fonction image_dataset_from_directory pour charger les images du répertoire\n",
    "    dataset = tf.keras.utils.image_dataset_from_directory(\n",
    "                    path,  label_mode='categorical', # définir le mode de labels des données chargées\n",
    "                    class_names=None, batch_size=batch_size, image_size=(224, 224), shuffle=True, seed=42,\n",
    "                    validation_split=validation_split, subset=data_type # fractionner les données pour la validation\n",
    "                    )\n",
    "    return dataset # Retourne le jeu de données préparé."
   ]
  },
  {
   "cell_type": "code",
   "execution_count": 49,
   "id": "cGdiGdWUv4hv",
   "metadata": {
    "colab": {
     "base_uri": "https://localhost:8080/"
    },
    "executionInfo": {
     "elapsed": 10,
     "status": "ok",
     "timestamp": 1679395552370,
     "user": {
      "displayName": "Manuel MARTIN",
      "userId": "00476657125712983438"
     },
     "user_tz": -60
    },
    "id": "cGdiGdWUv4hv",
    "outputId": "5bda1d44-f7c2-46c6-95b2-1f13aee3e4bc"
   },
   "outputs": [
    {
     "name": "stdout",
     "output_type": "stream",
     "text": [
      "Found 840 files belonging to 7 classes.\n",
      "Using 630 files for training.\n",
      "Found 840 files belonging to 7 classes.\n",
      "Using 210 files for validation.\n",
      "Found 210 files belonging to 7 classes.\n"
     ]
    }
   ],
   "source": [
    "# Chargement et préparation du jeu de données pour l'entraînement du modèle\n",
    "dataset_train = dataset_fct(path, validation_split=0.25, data_type='training')\n",
    "\n",
    "# Chargement et préparation du jeu de données pour la validation du modèle\n",
    "dataset_val = dataset_fct(path, validation_split=0.25, data_type='validation')\n",
    "\n",
    "# Chargement et préparation du jeu de données pour les tests du modèle\n",
    "dataset_test = dataset_fct(path_test, validation_split=0, data_type=None)"
   ]
  },
  {
   "cell_type": "markdown",
   "id": "6a1c7965",
   "metadata": {},
   "source": [
    "On crée ensuite le modèle"
   ]
  },
  {
   "cell_type": "code",
   "execution_count": 50,
   "id": "47cd138d",
   "metadata": {
    "colab": {
     "base_uri": "https://localhost:8080/"
    },
    "executionInfo": {
     "elapsed": 510,
     "status": "ok",
     "timestamp": 1679395552369,
     "user": {
      "displayName": "Manuel MARTIN",
      "userId": "00476657125712983438"
     },
     "user_tz": -60
    },
    "id": "47cd138d",
    "outputId": "f24263f5-db29-464f-b4f3-e6ece019a4eb",
    "scrolled": true
   },
   "outputs": [
    {
     "name": "stdout",
     "output_type": "stream",
     "text": [
      "Model: \"model_2\"\n",
      "_________________________________________________________________\n",
      " Layer (type)                Output Shape              Param #   \n",
      "=================================================================\n",
      " input_5 (InputLayer)        [(None, 224, 224, 3)]     0         \n",
      "                                                                 \n",
      " block1_conv1 (Conv2D)       (None, 224, 224, 64)      1792      \n",
      "                                                                 \n",
      " block1_conv2 (Conv2D)       (None, 224, 224, 64)      36928     \n",
      "                                                                 \n",
      " block1_pool (MaxPooling2D)  (None, 112, 112, 64)      0         \n",
      "                                                                 \n",
      " block2_conv1 (Conv2D)       (None, 112, 112, 128)     73856     \n",
      "                                                                 \n",
      " block2_conv2 (Conv2D)       (None, 112, 112, 128)     147584    \n",
      "                                                                 \n",
      " block2_pool (MaxPooling2D)  (None, 56, 56, 128)       0         \n",
      "                                                                 \n",
      " block3_conv1 (Conv2D)       (None, 56, 56, 256)       295168    \n",
      "                                                                 \n",
      " block3_conv2 (Conv2D)       (None, 56, 56, 256)       590080    \n",
      "                                                                 \n",
      " block3_conv3 (Conv2D)       (None, 56, 56, 256)       590080    \n",
      "                                                                 \n",
      " block3_pool (MaxPooling2D)  (None, 28, 28, 256)       0         \n",
      "                                                                 \n",
      " block4_conv1 (Conv2D)       (None, 28, 28, 512)       1180160   \n",
      "                                                                 \n",
      " block4_conv2 (Conv2D)       (None, 28, 28, 512)       2359808   \n",
      "                                                                 \n",
      " block4_conv3 (Conv2D)       (None, 28, 28, 512)       2359808   \n",
      "                                                                 \n",
      " block4_pool (MaxPooling2D)  (None, 14, 14, 512)       0         \n",
      "                                                                 \n",
      " block5_conv1 (Conv2D)       (None, 14, 14, 512)       2359808   \n",
      "                                                                 \n",
      " block5_conv2 (Conv2D)       (None, 14, 14, 512)       2359808   \n",
      "                                                                 \n",
      " block5_conv3 (Conv2D)       (None, 14, 14, 512)       2359808   \n",
      "                                                                 \n",
      " block5_pool (MaxPooling2D)  (None, 7, 7, 512)         0         \n",
      "                                                                 \n",
      " flatten_2 (Flatten)         (None, 25088)             0         \n",
      "                                                                 \n",
      " dense_8 (Dense)             (None, 256)               6422784   \n",
      "                                                                 \n",
      " dropout_4 (Dropout)         (None, 256)               0         \n",
      "                                                                 \n",
      " dense_9 (Dense)             (None, 7)                 1799      \n",
      "                                                                 \n",
      "=================================================================\n",
      "Total params: 21,139,271\n",
      "Trainable params: 6,424,583\n",
      "Non-trainable params: 14,714,688\n",
      "_________________________________________________________________\n",
      "None\n"
     ]
    }
   ],
   "source": [
    "# Utilisation de la carte graphique 0 pour créer le modèle\n",
    "with tf.device('/gpu:0'): \n",
    "    model1 = create_model_fct()\n",
    "\n",
    "# Définition de l'emplacement où sauvegarder les poids du modèle\n",
    "model1_save_path = \"./model1_best_weights.h5\"\n",
    "\n",
    "# Définition de la configuration du point de contrôle pour enregistrer les meilleurs poids du modèle lors de l'entraînement\n",
    "checkpoint = ModelCheckpoint(model1_save_path, monitor='val_loss', verbose=1, save_best_only=True, mode='min')\n",
    "\n",
    "# Définition de la configuration de l'arrêt anticipé pour arrêter l'entraînement si la perte de validation ne s'améliore pas pendant un certain nombre d'époques\n",
    "es = EarlyStopping(monitor='val_loss', mode='min', verbose=1, patience=5)\n",
    "\n",
    "# Création d'une liste de rappels pour être utilisée lors de l'entraînement du modèle\n",
    "callbacks_list = [checkpoint, es]"
   ]
  },
  {
   "cell_type": "markdown",
   "id": "e4aef6bd",
   "metadata": {},
   "source": [
    "On entraine le modèle sur nos images."
   ]
  },
  {
   "cell_type": "code",
   "execution_count": 51,
   "id": "34918404",
   "metadata": {
    "colab": {
     "base_uri": "https://localhost:8080/"
    },
    "executionInfo": {
     "elapsed": 117306,
     "status": "ok",
     "timestamp": 1679395669671,
     "user": {
      "displayName": "Manuel MARTIN",
      "userId": "00476657125712983438"
     },
     "user_tz": -60
    },
    "id": "34918404",
    "outputId": "dfaa3c6a-38ce-4d45-b230-301e16f7e73c",
    "scrolled": true
   },
   "outputs": [
    {
     "name": "stdout",
     "output_type": "stream",
     "text": [
      "Epoch 1/50\n"
     ]
    },
    {
     "name": "stderr",
     "output_type": "stream",
     "text": [
      "2023-04-03 11:44:17.075756: I tensorflow/core/grappler/optimizers/custom_graph_optimizer_registry.cc:113] Plugin optimizer for device_type GPU is enabled.\n"
     ]
    },
    {
     "name": "stdout",
     "output_type": "stream",
     "text": [
      "20/20 [==============================] - ETA: 0s - loss: 48.9476 - accuracy: 0.5508"
     ]
    },
    {
     "name": "stderr",
     "output_type": "stream",
     "text": [
      "2023-04-03 11:44:30.144530: I tensorflow/core/grappler/optimizers/custom_graph_optimizer_registry.cc:113] Plugin optimizer for device_type GPU is enabled.\n"
     ]
    },
    {
     "name": "stdout",
     "output_type": "stream",
     "text": [
      "\n",
      "Epoch 1: val_loss improved from inf to 11.75986, saving model to ./model1_best_weights.h5\n",
      "20/20 [==============================] - 18s 857ms/step - loss: 48.9476 - accuracy: 0.5508 - val_loss: 11.7599 - val_accuracy: 0.7190\n",
      "Epoch 2/50\n",
      "20/20 [==============================] - ETA: 0s - loss: 4.9384 - accuracy: 0.8460\n",
      "Epoch 2: val_loss improved from 11.75986 to 5.78806, saving model to ./model1_best_weights.h5\n",
      "20/20 [==============================] - 18s 860ms/step - loss: 4.9384 - accuracy: 0.8460 - val_loss: 5.7881 - val_accuracy: 0.7619\n",
      "Epoch 3/50\n",
      "20/20 [==============================] - ETA: 0s - loss: 2.9567 - accuracy: 0.8698\n",
      "Epoch 3: val_loss improved from 5.78806 to 5.33568, saving model to ./model1_best_weights.h5\n",
      "20/20 [==============================] - 18s 857ms/step - loss: 2.9567 - accuracy: 0.8698 - val_loss: 5.3357 - val_accuracy: 0.7619\n",
      "Epoch 4/50\n",
      "20/20 [==============================] - ETA: 0s - loss: 1.7479 - accuracy: 0.9016\n",
      "Epoch 4: val_loss did not improve from 5.33568\n",
      "20/20 [==============================] - 18s 847ms/step - loss: 1.7479 - accuracy: 0.9016 - val_loss: 6.8534 - val_accuracy: 0.8000\n",
      "Epoch 5/50\n",
      "20/20 [==============================] - ETA: 0s - loss: 1.1382 - accuracy: 0.9460\n",
      "Epoch 5: val_loss did not improve from 5.33568\n",
      "20/20 [==============================] - 19s 882ms/step - loss: 1.1382 - accuracy: 0.9460 - val_loss: 7.4643 - val_accuracy: 0.7667\n",
      "Epoch 6/50\n",
      "20/20 [==============================] - ETA: 0s - loss: 1.3556 - accuracy: 0.9381\n",
      "Epoch 6: val_loss did not improve from 5.33568\n",
      "20/20 [==============================] - 22s 991ms/step - loss: 1.3556 - accuracy: 0.9381 - val_loss: 6.0936 - val_accuracy: 0.7619\n",
      "Epoch 7/50\n",
      "20/20 [==============================] - ETA: 0s - loss: 1.3879 - accuracy: 0.9381\n",
      "Epoch 7: val_loss did not improve from 5.33568\n",
      "20/20 [==============================] - 20s 907ms/step - loss: 1.3879 - accuracy: 0.9381 - val_loss: 8.6601 - val_accuracy: 0.7857\n",
      "Epoch 8/50\n",
      "20/20 [==============================] - ETA: 0s - loss: 1.5931 - accuracy: 0.9381\n",
      "Epoch 8: val_loss did not improve from 5.33568\n",
      "20/20 [==============================] - 20s 948ms/step - loss: 1.5931 - accuracy: 0.9381 - val_loss: 10.7815 - val_accuracy: 0.7762\n",
      "Epoch 8: early stopping\n"
     ]
    }
   ],
   "source": [
    "# Utilisation de la carte graphique pour entraîner le modèle\n",
    "with tf.device('/gpu:0'): \n",
    "    history1 = model1.fit(dataset_train, # Jeu de données pour l'entraînement\n",
    "                    validation_data=dataset_val, # Jeu de données pour la validation\n",
    "                    batch_size=batch_size, epochs=50, # Définition de la taille de batch et du nombre d'époques pour l'entraînement\n",
    "                    callbacks=callbacks_list, # Liste de rappels pour l'entraînement\n",
    "                    verbose=1) # Définition du niveau de verbosité pour l'entraînement"
   ]
  },
  {
   "cell_type": "markdown",
   "id": "a518e186",
   "metadata": {},
   "source": [
    "On évalue le modèle sur les données d'entrainement et de validation"
   ]
  },
  {
   "cell_type": "code",
   "execution_count": 52,
   "id": "c7addf1b",
   "metadata": {
    "colab": {
     "base_uri": "https://localhost:8080/"
    },
    "executionInfo": {
     "elapsed": 11968,
     "status": "ok",
     "timestamp": 1679395681617,
     "user": {
      "displayName": "Manuel MARTIN",
      "userId": "00476657125712983438"
     },
     "user_tz": -60
    },
    "id": "c7addf1b",
    "outputId": "4ae13817-4fcd-4e1f-f96b-8575e1b86d8e",
    "scrolled": true
   },
   "outputs": [
    {
     "name": "stdout",
     "output_type": "stream",
     "text": [
      "Training Accuracy   : 0.9968\n",
      "\n",
      "Validation Accuracy :  0.7762\n"
     ]
    }
   ],
   "source": [
    "# Évaluation de la perte et de l'exactitude du modèle sur le jeu de données d'entraînement\n",
    "loss, accuracy = model1.evaluate(dataset_train, verbose=False)\n",
    "print(\"Training Accuracy   : {:.4f}\".format(accuracy))\n",
    "print()\n",
    "\n",
    "# Évaluation de la perte et de l'exactitude du modèle sur le jeu de données de validation\n",
    "loss, accuracy = model1.evaluate(dataset_val, verbose=False)\n",
    "print(\"Validation Accuracy :  {:.4f}\".format(accuracy))"
   ]
  },
  {
   "cell_type": "markdown",
   "id": "7a46c1e4",
   "metadata": {},
   "source": [
    "On charge les derniers poids du modèle, et on évalue sur les données de validation et de test"
   ]
  },
  {
   "cell_type": "code",
   "execution_count": 53,
   "id": "05e25ab5",
   "metadata": {
    "colab": {
     "base_uri": "https://localhost:8080/"
    },
    "executionInfo": {
     "elapsed": 5179,
     "status": "ok",
     "timestamp": 1679395686775,
     "user": {
      "displayName": "Manuel MARTIN",
      "userId": "00476657125712983438"
     },
     "user_tz": -60
    },
    "id": "05e25ab5",
    "outputId": "b79e52d7-3147-4904-fe32-d449e845ea65"
   },
   "outputs": [
    {
     "name": "stdout",
     "output_type": "stream",
     "text": [
      "Validation Accuracy :  0.7762\n",
      "Test Accuracy       :  0.7810\n"
     ]
    }
   ],
   "source": [
    "# Chargement des poids enregistrés du modèle entraîné\n",
    "#model1.load_weights(model1_save_path)\n",
    "\n",
    "# Évaluation de l'exactitude du modèle chargé sur le jeu de données de validation\n",
    "loss, accuracy = model1.evaluate(dataset_val, verbose=False)\n",
    "print(\"Validation Accuracy :  {:.4f}\".format(accuracy))\n",
    "\n",
    "# Évaluation de l'exactitude du modèle de base sur le jeu de données de test\n",
    "loss, accuracy = model1.evaluate(dataset_test, verbose=False)\n",
    "print(\"Test Accuracy       :  {:.4f}\".format(accuracy))"
   ]
  },
  {
   "cell_type": "markdown",
   "id": "0580858d",
   "metadata": {},
   "source": [
    "On crée une fonction pour afficher l'historique des accuracy et loss pour le training et la validation"
   ]
  },
  {
   "cell_type": "code",
   "execution_count": 54,
   "id": "725a6a66",
   "metadata": {},
   "outputs": [],
   "source": [
    "def plots(historyx) :\n",
    "    acc = historyx.history['accuracy']\n",
    "    val_acc = historyx.history['val_accuracy']\n",
    "\n",
    "    loss = historyx.history['loss']\n",
    "    val_loss = historyx.history['val_loss']\n",
    "\n",
    "    epochs_range = range(len(acc))\n",
    "\n",
    "    plt.figure(figsize=(15, 6))\n",
    "    plt.subplot(1, 2, 1)\n",
    "    plt.plot(epochs_range, acc, label='Training Accuracy')\n",
    "    plt.plot(epochs_range, val_acc, label='Validation Accuracy')\n",
    "    plt.legend(loc='lower right')\n",
    "    plt.title('Training and Validation Accuracy')\n",
    "\n",
    "    plt.subplot(1, 2, 2)\n",
    "    plt.plot(epochs_range, loss, label='Training Loss')\n",
    "    plt.plot(epochs_range, val_loss, label='Validation Loss')\n",
    "    plt.legend(loc='upper right')\n",
    "    plt.title('Training and Validation Loss')\n",
    "    plt.show()"
   ]
  },
  {
   "cell_type": "code",
   "execution_count": 55,
   "id": "fea9f900",
   "metadata": {
    "colab": {
     "base_uri": "https://localhost:8080/",
     "height": 528
    },
    "executionInfo": {
     "elapsed": 1242,
     "status": "ok",
     "timestamp": 1679395687993,
     "user": {
      "displayName": "Manuel MARTIN",
      "userId": "00476657125712983438"
     },
     "user_tz": -60
    },
    "id": "fea9f900",
    "outputId": "ebc7d96a-66d6-41a0-84e7-024e744940dc"
   },
   "outputs": [
    {
     "data": {
      "image/png": "[encoded data removed]",
      "text/plain": [
       "<Figure size 1500x600 with 2 Axes>"
      ]
     },
     "metadata": {},
     "output_type": "display_data"
    }
   ],
   "source": [
    "# Affichage de l'historique d'entraînement du modèle à travers les époques\n",
    "plots(history1)"
   ]
  },
  {
   "cell_type": "markdown",
   "id": "ab7ee947",
   "metadata": {
    "id": "ab7ee947"
   },
   "source": [
    "### Classification avec data augmentation intégrée au modèle\n",
    "\n",
    "CF https://www.tensorflow.org/tutorials/images/data_augmentation"
   ]
  },
  {
   "cell_type": "code",
   "execution_count": 72,
   "id": "cf34efba",
   "metadata": {
    "executionInfo": {
     "elapsed": 13,
     "status": "ok",
     "timestamp": 1679395687994,
     "user": {
      "displayName": "Manuel MARTIN",
      "userId": "00476657125712983438"
     },
     "user_tz": -60
    },
    "id": "cf34efba"
   },
   "outputs": [],
   "source": [
    "# Définition de la taille de batch pour le modèle\n",
    "batch_size = 32\n",
    "\n",
    "# Définition d'une fonction qui charge et prépare les données d'un répertoire donné\n",
    "# path: le chemin du répertoire contenant les données\n",
    "# validation_split: fraction du jeu de données à utiliser pour la validation\n",
    "# data_type: type de données à charger (train, test, validation)\n",
    "def dataset_fct(path, validation_split=0, data_type=None) :\n",
    "    # Utilisation de la fonction image_dataset_from_directory pour charger les images du répertoire\n",
    "    dataset = tf.keras.utils.image_dataset_from_directory(\n",
    "                    path, labels='inferred', label_mode='categorical',# La fonction utilise les noms des dossiers pour déterminer les étiquettes\n",
    "                                                                      # définir le mode de labels des données chargées\n",
    "                    class_names=None, batch_size=batch_size, image_size=(224, 224), shuffle=True, seed=42,\n",
    "                    validation_split=validation_split, subset=data_type # fractionner les données pour la validation\n",
    "                    )\n",
    "    return dataset"
   ]
  },
  {
   "cell_type": "markdown",
   "id": "63153e53",
   "metadata": {},
   "source": [
    "On crée un fonction 2 qui va ajouter des couches de data augmentation à notre modèle, avec des retournements, des rotations et des zooms."
   ]
  },
  {
   "cell_type": "code",
   "execution_count": 73,
   "id": "05147291",
   "metadata": {
    "executionInfo": {
     "elapsed": 12,
     "status": "ok",
     "timestamp": 1679395687995,
     "user": {
      "displayName": "Manuel MARTIN",
      "userId": "00476657125712983438"
     },
     "user_tz": -60
    },
    "id": "05147291"
   },
   "outputs": [],
   "source": [
    "def create_model_fct2():\n",
    "    \n",
    "    # Définition des transformations aléatoires des images\n",
    "    data_augmentation = Sequential([\n",
    "        RandomFlip(\"horizontal\", input_shape=(224, 224, 3)),\n",
    "        RandomRotation(0.5),\n",
    "        RandomZoom(0.5),\n",
    "    ])\n",
    "    \n",
    "    # Importation de l'architecture VGG16 pré-entraînée\n",
    "    model_base = VGG16(include_top=False, weights=\"imagenet\", input_shape=(224, 224, 3))\n",
    "    for layer in model_base.layers:\n",
    "        layer.trainable = False # On fige les poids des couches\n",
    "    \n",
    "    # Définition du modèle\n",
    "    model = Sequential([\n",
    "        data_augmentation, # Utilisation des transformations aléatoires\n",
    "        Rescaling(1./127.5, offset=-1), # Réduction de la plage de valeurs des pixels à [-1, 1]\n",
    "        model_base, # Ajout de l'architecture VGG16 figée\n",
    "        Flatten(), # Mise à plat des résultats\n",
    "        Dense(256, activation='relu'),\n",
    "        Dropout(0.5), # Désactivation aléatoire de certaines unités du réseau\n",
    "        Dense(7, activation='softmax') # Couche de sortie avec la fonction d'activation softmax\n",
    "    ])\n",
    "    \n",
    "    # Compilation du modèle avec la fonction de coût \"categorical_crossentropy\" et l'optimiseur \"adam\"\n",
    "    model.compile(loss=\"categorical_crossentropy\", optimizer='adam', metrics=[\"accuracy\"])\n",
    "\n",
    "    print(model.summary())\n",
    "    \n",
    "    return model"
   ]
  },
  {
   "cell_type": "markdown",
   "id": "453ca873",
   "metadata": {},
   "source": [
    "On créé notre modèle."
   ]
  },
  {
   "cell_type": "code",
   "execution_count": 74,
   "id": "291620f1",
   "metadata": {
    "colab": {
     "base_uri": "https://localhost:8080/"
    },
    "executionInfo": {
     "elapsed": 1798,
     "status": "ok",
     "timestamp": 1679395689782,
     "user": {
      "displayName": "Manuel MARTIN",
      "userId": "00476657125712983438"
     },
     "user_tz": -60
    },
    "id": "291620f1",
    "outputId": "78ef5791-5e70-48ae-aedc-f8786aaeeecc",
    "scrolled": true
   },
   "outputs": [
    {
     "name": "stdout",
     "output_type": "stream",
     "text": [
      "Model: \"sequential_9\"\n",
      "_________________________________________________________________\n",
      " Layer (type)                Output Shape              Param #   \n",
      "=================================================================\n",
      " sequential_8 (Sequential)   (None, 224, 224, 3)       0         \n",
      "                                                                 \n",
      " rescaling_4 (Rescaling)     (None, 224, 224, 3)       0         \n",
      "                                                                 \n",
      " vgg16 (Functional)          (None, 7, 7, 512)         14714688  \n",
      "                                                                 \n",
      " flatten_5 (Flatten)         (None, 25088)             0         \n",
      "                                                                 \n",
      " dense_14 (Dense)            (None, 256)               6422784   \n",
      "                                                                 \n",
      " dropout_7 (Dropout)         (None, 256)               0         \n",
      "                                                                 \n",
      " dense_15 (Dense)            (None, 7)                 1799      \n",
      "                                                                 \n",
      "=================================================================\n",
      "Total params: 21,139,271\n",
      "Trainable params: 6,424,583\n",
      "Non-trainable params: 14,714,688\n",
      "_________________________________________________________________\n",
      "None\n"
     ]
    }
   ],
   "source": [
    "# Spécifier le périphérique pour l'exécution du modèle (GPU ou CPU)\n",
    "with tf.device('/gpu:0'): \n",
    "\n",
    "    # Créer le modèle en utilisant la fonction create_model_fct2()\n",
    "    model2 = create_model_fct2()\n",
    "\n",
    "# Spécifier le chemin pour enregistrer les meilleurs poids du modèle\n",
    "model2_save_path = \"./model2_best_weights.h5\"\n",
    "\n",
    "# Définir un point de contrôle pour enregistrer les meilleurs poids en fonction de la perte de validation\n",
    "checkpoint = ModelCheckpoint(model2_save_path, monitor='val_loss', verbose=1, save_best_only=True, mode='min')\n",
    "\n",
    "# Définir un point d'arrêt anticipé pour arrêter l'entraînement si la perte de validation ne s'améliore pas pendant un certain nombre d'époques\n",
    "es = EarlyStopping(monitor='val_loss', mode='min', verbose=1, patience=5)\n",
    "\n",
    "# Mettre en place une liste de rappels pour être utilisés lors de l'entraînement du modèle\n",
    "callbacks_list = [checkpoint, es]"
   ]
  },
  {
   "cell_type": "code",
   "execution_count": 75,
   "id": "fbb35538",
   "metadata": {
    "colab": {
     "base_uri": "https://localhost:8080/"
    },
    "executionInfo": {
     "elapsed": 1364,
     "status": "ok",
     "timestamp": 1679395691142,
     "user": {
      "displayName": "Manuel MARTIN",
      "userId": "00476657125712983438"
     },
     "user_tz": -60
    },
    "id": "fbb35538",
    "outputId": "66cae751-5b4a-4f52-fcb2-2775f5e2e3fe",
    "scrolled": true
   },
   "outputs": [
    {
     "name": "stdout",
     "output_type": "stream",
     "text": [
      "Found 840 files belonging to 7 classes.\n",
      "Using 588 files for training.\n",
      "Found 840 files belonging to 7 classes.\n",
      "Using 252 files for validation.\n",
      "Found 210 files belonging to 7 classes.\n"
     ]
    }
   ],
   "source": [
    "# Créer un ensemble de données d'entraînement en utilisant la fonction dataset_fct() avec une division de validation de 25% et un type de données 'training'\n",
    "dataset_train = dataset_fct(path, validation_split=0.3, data_type='training')\n",
    "\n",
    "# Créer un ensemble de données de validation en utilisant la fonction dataset_fct() avec une division de validation de 25% et un type de données 'validation'\n",
    "dataset_val = dataset_fct(path, validation_split=0.3, data_type='validation')\n",
    "\n",
    "# Créer un ensemble de données de test en utilisant la fonction dataset_fct() sans division de validation (validation_split=0) et aucun type de données spécifié (data_type=None)\n",
    "dataset_test = dataset_fct(path_test, validation_split=0, data_type=None)"
   ]
  },
  {
   "cell_type": "markdown",
   "id": "713add7a",
   "metadata": {},
   "source": [
    "On entraine nos dernières couches avec nos images"
   ]
  },
  {
   "cell_type": "code",
   "execution_count": 76,
   "id": "fbb34fd9",
   "metadata": {
    "colab": {
     "base_uri": "https://localhost:8080/"
    },
    "executionInfo": {
     "elapsed": 271515,
     "status": "ok",
     "timestamp": 1679395962647,
     "user": {
      "displayName": "Manuel MARTIN",
      "userId": "00476657125712983438"
     },
     "user_tz": -60
    },
    "id": "fbb34fd9",
    "outputId": "4a309ba9-7fc9-4315-a9fe-5ad0c02c387b",
    "scrolled": true
   },
   "outputs": [
    {
     "name": "stdout",
     "output_type": "stream",
     "text": [
      "Epoch 1/50\n"
     ]
    },
    {
     "name": "stderr",
     "output_type": "stream",
     "text": [
      "2023-04-03 12:06:42.476408: I tensorflow/core/grappler/optimizers/custom_graph_optimizer_registry.cc:113] Plugin optimizer for device_type GPU is enabled.\n"
     ]
    },
    {
     "name": "stdout",
     "output_type": "stream",
     "text": [
      "19/19 [==============================] - ETA: 0s - loss: 2.8042 - accuracy: 0.2925"
     ]
    },
    {
     "name": "stderr",
     "output_type": "stream",
     "text": [
      "2023-04-03 12:06:58.324370: I tensorflow/core/grappler/optimizers/custom_graph_optimizer_registry.cc:113] Plugin optimizer for device_type GPU is enabled.\n"
     ]
    },
    {
     "name": "stdout",
     "output_type": "stream",
     "text": [
      "\n",
      "Epoch 1: val_loss improved from inf to 1.16268, saving model to ./model2_best_weights.h5\n",
      "19/19 [==============================] - 23s 1s/step - loss: 2.8042 - accuracy: 0.2925 - val_loss: 1.1627 - val_accuracy: 0.5675\n",
      "Epoch 2/50\n",
      "19/19 [==============================] - ETA: 0s - loss: 1.3099 - accuracy: 0.5272\n",
      "Epoch 2: val_loss improved from 1.16268 to 0.95726, saving model to ./model2_best_weights.h5\n",
      "19/19 [==============================] - 21s 1s/step - loss: 1.3099 - accuracy: 0.5272 - val_loss: 0.9573 - val_accuracy: 0.6825\n",
      "Epoch 3/50\n",
      "19/19 [==============================] - ETA: 0s - loss: 1.3054 - accuracy: 0.5102\n",
      "Epoch 3: val_loss did not improve from 0.95726\n",
      "19/19 [==============================] - 21s 1s/step - loss: 1.3054 - accuracy: 0.5102 - val_loss: 0.9847 - val_accuracy: 0.6230\n",
      "Epoch 4/50\n",
      "19/19 [==============================] - ETA: 0s - loss: 1.2113 - accuracy: 0.5561\n",
      "Epoch 4: val_loss did not improve from 0.95726\n",
      "19/19 [==============================] - 22s 1s/step - loss: 1.2113 - accuracy: 0.5561 - val_loss: 0.9780 - val_accuracy: 0.6667\n",
      "Epoch 5/50\n",
      "19/19 [==============================] - ETA: 0s - loss: 1.1790 - accuracy: 0.5765\n",
      "Epoch 5: val_loss improved from 0.95726 to 0.92836, saving model to ./model2_best_weights.h5\n",
      "19/19 [==============================] - 24s 1s/step - loss: 1.1790 - accuracy: 0.5765 - val_loss: 0.9284 - val_accuracy: 0.6786\n",
      "Epoch 6/50\n",
      "19/19 [==============================] - ETA: 0s - loss: 1.0839 - accuracy: 0.5816\n",
      "Epoch 6: val_loss improved from 0.92836 to 0.79673, saving model to ./model2_best_weights.h5\n",
      "19/19 [==============================] - 26s 1s/step - loss: 1.0839 - accuracy: 0.5816 - val_loss: 0.7967 - val_accuracy: 0.7937\n",
      "Epoch 7/50\n",
      "19/19 [==============================] - ETA: 0s - loss: 1.0429 - accuracy: 0.6139\n",
      "Epoch 7: val_loss did not improve from 0.79673\n",
      "19/19 [==============================] - 25s 1s/step - loss: 1.0429 - accuracy: 0.6139 - val_loss: 0.8142 - val_accuracy: 0.7262\n",
      "Epoch 8/50\n",
      "19/19 [==============================] - ETA: 0s - loss: 1.0387 - accuracy: 0.6071\n",
      "Epoch 8: val_loss did not improve from 0.79673\n",
      "19/19 [==============================] - 27s 1s/step - loss: 1.0387 - accuracy: 0.6071 - val_loss: 0.8107 - val_accuracy: 0.7540\n",
      "Epoch 9/50\n",
      "19/19 [==============================] - ETA: 0s - loss: 0.9776 - accuracy: 0.6548\n",
      "Epoch 9: val_loss improved from 0.79673 to 0.77473, saving model to ./model2_best_weights.h5\n",
      "19/19 [==============================] - 26s 1s/step - loss: 0.9776 - accuracy: 0.6548 - val_loss: 0.7747 - val_accuracy: 0.7698\n",
      "Epoch 10/50\n",
      "19/19 [==============================] - ETA: 0s - loss: 1.0177 - accuracy: 0.6480\n",
      "Epoch 10: val_loss did not improve from 0.77473\n",
      "19/19 [==============================] - 26s 1s/step - loss: 1.0177 - accuracy: 0.6480 - val_loss: 0.7762 - val_accuracy: 0.7460\n",
      "Epoch 11/50\n",
      "19/19 [==============================] - ETA: 0s - loss: 0.9402 - accuracy: 0.6565\n",
      "Epoch 11: val_loss did not improve from 0.77473\n",
      "19/19 [==============================] - 26s 1s/step - loss: 0.9402 - accuracy: 0.6565 - val_loss: 0.7752 - val_accuracy: 0.7262\n",
      "Epoch 12/50\n",
      "19/19 [==============================] - ETA: 0s - loss: 0.9459 - accuracy: 0.6480\n",
      "Epoch 12: val_loss improved from 0.77473 to 0.74926, saving model to ./model2_best_weights.h5\n",
      "19/19 [==============================] - 27s 1s/step - loss: 0.9459 - accuracy: 0.6480 - val_loss: 0.7493 - val_accuracy: 0.7937\n",
      "Epoch 13/50\n",
      "19/19 [==============================] - ETA: 0s - loss: 0.8740 - accuracy: 0.6701\n",
      "Epoch 13: val_loss did not improve from 0.74926\n",
      "19/19 [==============================] - 26s 1s/step - loss: 0.8740 - accuracy: 0.6701 - val_loss: 0.7544 - val_accuracy: 0.7659\n",
      "Epoch 14/50\n",
      "19/19 [==============================] - ETA: 0s - loss: 0.8858 - accuracy: 0.6769\n",
      "Epoch 14: val_loss did not improve from 0.74926\n",
      "19/19 [==============================] - 22s 1s/step - loss: 0.8858 - accuracy: 0.6769 - val_loss: 0.7616 - val_accuracy: 0.7579\n",
      "Epoch 15/50\n",
      "19/19 [==============================] - ETA: 0s - loss: 0.8409 - accuracy: 0.6888\n",
      "Epoch 15: val_loss did not improve from 0.74926\n",
      "19/19 [==============================] - 25s 1s/step - loss: 0.8409 - accuracy: 0.6888 - val_loss: 0.7536 - val_accuracy: 0.7659\n",
      "Epoch 16/50\n",
      "19/19 [==============================] - ETA: 0s - loss: 0.8921 - accuracy: 0.6786\n",
      "Epoch 16: val_loss improved from 0.74926 to 0.70018, saving model to ./model2_best_weights.h5\n",
      "19/19 [==============================] - 28s 1s/step - loss: 0.8921 - accuracy: 0.6786 - val_loss: 0.7002 - val_accuracy: 0.7738\n",
      "Epoch 17/50\n",
      "19/19 [==============================] - ETA: 0s - loss: 0.8300 - accuracy: 0.7058\n",
      "Epoch 17: val_loss did not improve from 0.70018\n",
      "19/19 [==============================] - 28s 1s/step - loss: 0.8300 - accuracy: 0.7058 - val_loss: 0.7524 - val_accuracy: 0.7500\n",
      "Epoch 18/50\n",
      "19/19 [==============================] - ETA: 0s - loss: 0.7896 - accuracy: 0.6990\n",
      "Epoch 18: val_loss did not improve from 0.70018\n",
      "19/19 [==============================] - 26s 1s/step - loss: 0.7896 - accuracy: 0.6990 - val_loss: 0.8137 - val_accuracy: 0.7103\n",
      "Epoch 19/50\n",
      "19/19 [==============================] - ETA: 0s - loss: 0.8223 - accuracy: 0.7092\n",
      "Epoch 19: val_loss did not improve from 0.70018\n",
      "19/19 [==============================] - 27s 1s/step - loss: 0.8223 - accuracy: 0.7092 - val_loss: 0.7726 - val_accuracy: 0.7619\n",
      "Epoch 20/50\n",
      "19/19 [==============================] - ETA: 0s - loss: 0.8908 - accuracy: 0.6752\n",
      "Epoch 20: val_loss did not improve from 0.70018\n",
      "19/19 [==============================] - 27s 1s/step - loss: 0.8908 - accuracy: 0.6752 - val_loss: 0.7269 - val_accuracy: 0.7778\n",
      "Epoch 21/50\n",
      "19/19 [==============================] - ETA: 0s - loss: 0.7943 - accuracy: 0.7194\n",
      "Epoch 21: val_loss did not improve from 0.70018\n",
      "19/19 [==============================] - 26s 1s/step - loss: 0.7943 - accuracy: 0.7194 - val_loss: 0.7466 - val_accuracy: 0.7540\n",
      "Epoch 21: early stopping\n"
     ]
    }
   ],
   "source": [
    "# Spécifier le périphérique pour l'exécution du modèle (GPU ou CPU)\n",
    "with tf.device('/gpu:0'): \n",
    "\n",
    "    # Entraîner le modèle en utilisant la fonction fit() avec l'ensemble de données d'entraînement, l'ensemble de données de validation, la taille de lot (batch_size) et les rappels définis précédemment (callbacks_list)\n",
    "    # Enregistrer l'historique d'entraînement dans la variable history2\n",
    "    # Afficher le progrès de l'entraînement avec verbose=1\n",
    "    history2 = model2.fit(dataset_train, validation_data=dataset_val, batch_size=batch_size, epochs=50, callbacks=callbacks_list, verbose=1)"
   ]
  },
  {
   "cell_type": "markdown",
   "id": "873908d7",
   "metadata": {},
   "source": [
    "On évalue le modèle sur les données d'entrainement et de validation"
   ]
  },
  {
   "cell_type": "code",
   "execution_count": 77,
   "id": "ed0d0b01",
   "metadata": {
    "colab": {
     "base_uri": "https://localhost:8080/"
    },
    "executionInfo": {
     "elapsed": 14748,
     "status": "ok",
     "timestamp": 1679395977371,
     "user": {
      "displayName": "Manuel MARTIN",
      "userId": "00476657125712983438"
     },
     "user_tz": -60
    },
    "id": "ed0d0b01",
    "outputId": "3989382c-5814-45b1-e67e-4400f9c546bd",
    "scrolled": true
   },
   "outputs": [
    {
     "name": "stdout",
     "output_type": "stream",
     "text": [
      "Training Accuracy   : 0.8248\n",
      "\n",
      "Validation Accuracy :  0.7540\n"
     ]
    }
   ],
   "source": [
    "# Évaluer la précision du modèle sur l'ensemble de données d'entraînement en utilisant la fonction evaluate()\n",
    "# Enregistrer la perte et la précision dans les variables loss et accuracy\n",
    "loss, accuracy = model2.evaluate(dataset_train, verbose=False)\n",
    "\n",
    "# Afficher la précision d'entraînement en formatant la valeur de précision\n",
    "print(\"Training Accuracy   : {:.4f}\".format(accuracy))\n",
    "print()\n",
    "\n",
    "# Évaluer la précision du modèle sur l'ensemble de données de validation en utilisant la fonction evaluate()\n",
    "# Enregistrer la perte et la précision dans les variables loss et accuracy\n",
    "loss, accuracy = model2.evaluate(dataset_val, verbose=False)\n",
    "\n",
    "# Afficher la précision de validation en formatant la valeur de précision\n",
    "print(\"Validation Accuracy :  {:.4f}\".format(accuracy))"
   ]
  },
  {
   "cell_type": "markdown",
   "id": "5b8bb060",
   "metadata": {},
   "source": [
    "On charge les poids du modèle, et on évalue le modèle sur les données de validation et de test"
   ]
  },
  {
   "cell_type": "code",
   "execution_count": 78,
   "id": "51fa449d",
   "metadata": {
    "colab": {
     "base_uri": "https://localhost:8080/"
    },
    "executionInfo": {
     "elapsed": 4453,
     "status": "ok",
     "timestamp": 1679395981818,
     "user": {
      "displayName": "Manuel MARTIN",
      "userId": "00476657125712983438"
     },
     "user_tz": -60
    },
    "id": "51fa449d",
    "outputId": "cb13d27f-bc7b-465e-b7be-db181b3cd2d5"
   },
   "outputs": [
    {
     "name": "stdout",
     "output_type": "stream",
     "text": [
      "Validation Accuracy :  0.7540\n",
      "Test Accuracy       :  0.7714\n"
     ]
    }
   ],
   "source": [
    "# Charger les poids enregistrés du modèle en utilisant la fonction load_weights() et le chemin spécifié précédemment (model7_save_path)\n",
    "#model2.load_weights(model2_save_path)\n",
    "\n",
    "# Évaluer la précision du modèle chargé sur l'ensemble de données de validation en utilisant la fonction evaluate()\n",
    "# Enregistrer la perte et la précision dans les variables loss et accuracy\n",
    "loss, accuracy = model2.evaluate(dataset_val, verbose=False)\n",
    "\n",
    "# Afficher la précision de validation en formatant la valeur de précision\n",
    "print(\"Validation Accuracy :  {:.4f}\".format(accuracy))\n",
    "\n",
    "# Évaluer la précision du modèle chargé sur l'ensemble de données de test en utilisant la fonction evaluate()\n",
    "# Enregistrer la perte et la précision dans les variables loss et accuracy\n",
    "loss, accuracy = model2.evaluate(dataset_test, verbose=False)\n",
    "\n",
    "# Afficher la précision de test en formatant la valeur de précision\n",
    "print(\"Test Accuracy       :  {:.4f}\".format(accuracy))"
   ]
  },
  {
   "cell_type": "markdown",
   "id": "9177f2f8",
   "metadata": {},
   "source": [
    "On affiche l'historique de accuracy et loss"
   ]
  },
  {
   "cell_type": "code",
   "execution_count": 79,
   "id": "96f836e4",
   "metadata": {
    "colab": {
     "base_uri": "https://localhost:8080/",
     "height": 528
    },
    "executionInfo": {
     "elapsed": 1610,
     "status": "ok",
     "timestamp": 1679395983404,
     "user": {
      "displayName": "Manuel MARTIN",
      "userId": "00476657125712983438"
     },
     "user_tz": -60
    },
    "id": "96f836e4",
    "outputId": "299b9229-616d-4145-bdaa-863d1fd1a35d"
   },
   "outputs": [
    {
     "data": {
      "image/png": "[encoded data removed]",
      "text/plain": [
       "<Figure size 1500x600 with 2 Axes>"
      ]
     },
     "metadata": {},
     "output_type": "display_data"
    }
   ],
   "source": [
    "# Afficher l'historique de l'entraînement avec plots() en utilisant la variable d'historique history2\n",
    "plots(history2)"
   ]
  }
 ],
 "metadata": {
  "accelerator": "GPU",
  "colab": {
   "provenance": [
    {
     "file_id": "1EHRMlaiRnCmpi1aw4LesicI_q4l2Vhod",
     "timestamp": 1679397242400
    }
   ]
  },
  "gpuClass": "standard",
  "kernelspec": {
   "display_name": "Python 3 (ipykernel)",
   "language": "python",
   "name": "python3"
  },
  "language_info": {
   "codemirror_mode": {
    "name": "ipython",
    "version": 3
   },
   "file_extension": ".py",
   "mimetype": "text/x-python",
   "name": "python",
   "nbconvert_exporter": "python",
   "pygments_lexer": "ipython3",
   "version": "3.8.16"
  }
 },
 "nbformat": 4,
 "nbformat_minor": 5
}
